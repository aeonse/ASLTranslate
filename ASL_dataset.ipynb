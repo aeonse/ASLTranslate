{
 "cells": [
  {
   "cell_type": "code",
   "execution_count": 6,
   "id": "6131808f",
   "metadata": {},
   "outputs": [],
   "source": [
    "import os\n",
    "import json\n",
    "\n",
    "# Make sure to specify the path to the directory if it's different\n",
    "with open('kaggle.json') as f:\n",
    "    kaggle_api_key = json.load(f)\n",
    "    os.environ[\"KAGGLE_USERNAME\"] = kaggle_api_key[\"username\"]\n",
    "    os.environ[\"KAGGLE_KEY\"] = kaggle_api_key[\"key\"]"
   ]
  },
  {
   "cell_type": "code",
   "execution_count": 9,
   "id": "a9c92d3c",
   "metadata": {},
   "outputs": [
    {
     "name": "stdout",
     "output_type": "stream",
     "text": [
      "Source code downloaded to /Users/aeonseo/hackathon/cnn-using-keras-100-accuracy.ipynb\r\n"
     ]
    }
   ],
   "source": [
    "!kaggle kernels pull madz2000/cnn-using-keras-100-accuracy"
   ]
  },
  {
   "cell_type": "code",
   "execution_count": null,
   "id": "6730103e",
   "metadata": {},
   "outputs": [],
   "source": []
  },
  {
   "cell_type": "code",
   "execution_count": null,
   "id": "5fc8e476",
   "metadata": {},
   "outputs": [],
   "source": []
  }
 ],
 "metadata": {
  "kernelspec": {
   "display_name": "Python 3 (ipykernel)",
   "language": "python",
   "name": "python3"
  },
  "language_info": {
   "codemirror_mode": {
    "name": "ipython",
    "version": 3
   },
   "file_extension": ".py",
   "mimetype": "text/x-python",
   "name": "python",
   "nbconvert_exporter": "python",
   "pygments_lexer": "ipython3",
   "version": "3.11.4"
  }
 },
 "nbformat": 4,
 "nbformat_minor": 5
}
